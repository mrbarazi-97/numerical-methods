{
 "cells": [
  {
   "cell_type": "code",
   "execution_count": 1,
   "id": "447fd267",
   "metadata": {},
   "outputs": [],
   "source": [
    "import numpy as np\n",
    "\n",
    "def my_bisection(f, a, b, tol): \n",
    "  \n",
    "  \n",
    "    if np.sign(f(a)) == np.sign(f(b)):\n",
    "        raise Exception(\n",
    "         \"The scalars a and b do not bound a root\")\n",
    "        \n",
    "  \n",
    "    m = (a + b)/2\n",
    "    \n",
    "    if np.abs(f(m)) < tol:\n",
    "        return m\n",
    "    elif np.sign(f(a)) == np.sign(f(m)):\n",
    "        return my_bisection(f, m, b, tol)\n",
    "    elif np.sign(f(b)) == np.sign(f(m)):\n",
    "        return my_bisection(f, a, m, tol)"
   ]
  },
  {
   "cell_type": "code",
   "execution_count": 2,
   "id": "cdc049f3",
   "metadata": {},
   "outputs": [
    {
     "name": "stdout",
     "output_type": "stream",
     "text": [
      "r1 = 1.4375\n",
      "r01 = 1.4140625\n",
      "f(r1) = 0.06640625\n",
      "f(r01) = -0.00042724609375\n"
     ]
    }
   ],
   "source": [
    "f = lambda x: x**2 - 2\n",
    "\n",
    "r1 = my_bisection(f, 0, 2, 0.1)\n",
    "print(\"r1 =\", r1)\n",
    "r01 = my_bisection(f, 0, 2, 0.01)\n",
    "print(\"r01 =\", r01)\n",
    "\n",
    "print(\"f(r1) =\", f(r1))\n",
    "print(\"f(r01) =\", f(r01))"
   ]
  },
  {
   "cell_type": "code",
   "execution_count": 3,
   "id": "aa660ffe",
   "metadata": {},
   "outputs": [
    {
     "ename": "Exception",
     "evalue": "The scalars a and b do not bound a root",
     "output_type": "error",
     "traceback": [
      "\u001b[1;31m---------------------------------------------------------------------------\u001b[0m",
      "\u001b[1;31mException\u001b[0m                                 Traceback (most recent call last)",
      "\u001b[1;32mC:\\Users\\ADMINI~1\\AppData\\Local\\Temp/ipykernel_12740/3046273423.py\u001b[0m in \u001b[0;36m<module>\u001b[1;34m\u001b[0m\n\u001b[1;32m----> 1\u001b[1;33m \u001b[0mmy_bisection\u001b[0m\u001b[1;33m(\u001b[0m\u001b[0mf\u001b[0m\u001b[1;33m,\u001b[0m \u001b[1;36m2\u001b[0m\u001b[1;33m,\u001b[0m \u001b[1;36m4\u001b[0m\u001b[1;33m,\u001b[0m \u001b[1;36m0.01\u001b[0m\u001b[1;33m)\u001b[0m\u001b[1;33m\u001b[0m\u001b[1;33m\u001b[0m\u001b[0m\n\u001b[0m",
      "\u001b[1;32mC:\\Users\\ADMINI~1\\AppData\\Local\\Temp/ipykernel_12740/3023533329.py\u001b[0m in \u001b[0;36mmy_bisection\u001b[1;34m(f, a, b, tol)\u001b[0m\n\u001b[0;32m      9\u001b[0m     \u001b[1;31m# check if a and b bound a root\u001b[0m\u001b[1;33m\u001b[0m\u001b[1;33m\u001b[0m\u001b[0m\n\u001b[0;32m     10\u001b[0m     \u001b[1;32mif\u001b[0m \u001b[0mnp\u001b[0m\u001b[1;33m.\u001b[0m\u001b[0msign\u001b[0m\u001b[1;33m(\u001b[0m\u001b[0mf\u001b[0m\u001b[1;33m(\u001b[0m\u001b[0ma\u001b[0m\u001b[1;33m)\u001b[0m\u001b[1;33m)\u001b[0m \u001b[1;33m==\u001b[0m \u001b[0mnp\u001b[0m\u001b[1;33m.\u001b[0m\u001b[0msign\u001b[0m\u001b[1;33m(\u001b[0m\u001b[0mf\u001b[0m\u001b[1;33m(\u001b[0m\u001b[0mb\u001b[0m\u001b[1;33m)\u001b[0m\u001b[1;33m)\u001b[0m\u001b[1;33m:\u001b[0m\u001b[1;33m\u001b[0m\u001b[1;33m\u001b[0m\u001b[0m\n\u001b[1;32m---> 11\u001b[1;33m         raise Exception(\n\u001b[0m\u001b[0;32m     12\u001b[0m          \"The scalars a and b do not bound a root\")\n\u001b[0;32m     13\u001b[0m \u001b[1;33m\u001b[0m\u001b[0m\n",
      "\u001b[1;31mException\u001b[0m: The scalars a and b do not bound a root"
     ]
    }
   ],
   "source": [
    "my_bisection(f, 2, 4, 0.01)"
   ]
  },
  {
   "cell_type": "code",
   "execution_count": null,
   "id": "d70bfb1c",
   "metadata": {},
   "outputs": [],
   "source": []
  }
 ],
 "metadata": {
  "kernelspec": {
   "display_name": "Python 3 (ipykernel)",
   "language": "python",
   "name": "python3"
  },
  "language_info": {
   "codemirror_mode": {
    "name": "ipython",
    "version": 3
   },
   "file_extension": ".py",
   "mimetype": "text/x-python",
   "name": "python",
   "nbconvert_exporter": "python",
   "pygments_lexer": "ipython3",
   "version": "3.9.7"
  }
 },
 "nbformat": 4,
 "nbformat_minor": 5
}
